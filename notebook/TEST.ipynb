{
  "nbformat": 4,
  "nbformat_minor": 0,
  "metadata": {
    "kernelspec": {
      "display_name": "Python 3",
      "language": "python",
      "name": "python3"
    },
    "language_info": {
      "codemirror_mode": {
        "name": "ipython",
        "version": 3
      },
      "file_extension": ".py",
      "mimetype": "text/x-python",
      "name": "python",
      "nbconvert_exporter": "python",
      "pygments_lexer": "ipython3",
      "version": "3.7.3"
    },
    "toc": {
      "base_numbering": 1,
      "nav_menu": {},
      "number_sections": true,
      "sideBar": true,
      "skip_h1_title": false,
      "title_cell": "Table of Contents",
      "title_sidebar": "Contents",
      "toc_cell": false,
      "toc_position": {},
      "toc_section_display": true,
      "toc_window_display": false
    },
    "colab": {
      "name": "TEST.ipynb",
      "provenance": [],
      "include_colab_link": true
    }
  },
  "cells": [
    {
      "cell_type": "markdown",
      "metadata": {
        "id": "view-in-github",
        "colab_type": "text"
      },
      "source": [
        "<a href=\"https://colab.research.google.com/github/Nazar96/Bengali.AI/blob/image_load/notebook/TEST.ipynb\" target=\"_parent\"><img src=\"https://colab.research.google.com/assets/colab-badge.svg\" alt=\"Open In Colab\"/></a>"
      ]
    },
    {
      "cell_type": "code",
      "metadata": {
        "ExecuteTime": {
          "end_time": "2020-01-31T14:41:41.739974Z",
          "start_time": "2020-01-31T14:41:41.728696Z"
        },
        "id": "bwmIx6rE1cSd",
        "colab_type": "code",
        "colab": {}
      },
      "source": [
        "def check_colab():\n",
        "    try:\n",
        "        from google.colab import drive\n",
        "        drive.mount('/content/gdrive')\n",
        "        IN_COLAB = True\n",
        "        \n",
        "    except:    \n",
        "        IN_COLAB = False\n",
        "        \n",
        "    return IN_COLAB"
      ],
      "execution_count": 0,
      "outputs": []
    },
    {
      "cell_type": "code",
      "metadata": {
        "ExecuteTime": {
          "end_time": "2020-01-31T14:37:36.354821Z",
          "start_time": "2020-01-31T14:37:35.690814Z"
        },
        "id": "U6AzyAqN1cSj",
        "colab_type": "code",
        "colab": {}
      },
      "source": [
        "import numpy as np\n",
        "import pandas as pd\n",
        "from matplotlib import pyplot as plt\n",
        "import zipfile\n",
        "\n",
        "import sys\n",
        "import os\n",
        "\n",
        "check_colab()"
      ],
      "execution_count": 0,
      "outputs": []
    },
    {
      "cell_type": "code",
      "metadata": {
        "id": "xHczZvKz1cSn",
        "colab_type": "code",
        "colab": {}
      },
      "source": [
        "if IN_COLAB == False:\n",
        "    DATA_PATH = \"gdrive/My Drive/BengaliAI_data/\"\n",
        "else:\n",
        "    DATA_PATH = '../data/orig/'"
      ],
      "execution_count": 0,
      "outputs": []
    },
    {
      "cell_type": "code",
      "metadata": {
        "ExecuteTime": {
          "end_time": "2020-01-31T13:53:13.301786Z",
          "start_time": "2020-01-31T13:53:13.297167Z"
        },
        "id": "CZx4uKa61cSs",
        "colab_type": "code",
        "colab": {}
      },
      "source": [
        "path = lambda file_name: os.path.join(DATA_PATH, file_name)\n",
        "zfile = lambda file_name: zipfile.ZipFile(path(file_name))"
      ],
      "execution_count": 0,
      "outputs": []
    },
    {
      "cell_type": "code",
      "metadata": {
        "ExecuteTime": {
          "end_time": "2020-01-31T13:53:14.189998Z",
          "start_time": "2020-01-31T13:53:14.047329Z"
        },
        "id": "9KaBjmYf1cSw",
        "colab_type": "code",
        "colab": {},
        "outputId": "9c60429c-7f8f-4b72-eca0-e43133ceb211"
      },
      "source": [
        "! ls -lh $DATA_PATH"
      ],
      "execution_count": 0,
      "outputs": [
        {
          "output_type": "stream",
          "text": [
            "total 3,9G\r\n",
            "-rw-r--r-- 1 nazarii nazarii 4,8K янв 24 15:31 class_map.csv\r\n",
            "-rw-r--r-- 1 nazarii nazarii  944 янв 24 15:31 sample_submission.csv\r\n",
            "-rw-r--r-- 1 nazarii nazarii 1,8K янв 24 15:28 test.csv\r\n",
            "-rw-r--r-- 1 nazarii nazarii 1,2M янв 24 15:31 test_image_data_0.parquet.zip\r\n",
            "-rw-r--r-- 1 nazarii nazarii 1,4M янв 24 15:24 test_image_data_1.parquet.zip\r\n",
            "-rw-r--r-- 1 nazarii nazarii 1,3M янв 24 15:34 test_image_data_2.parquet.zip\r\n",
            "-rw-r--r-- 1 nazarii nazarii 1,3M янв 24 15:24 test_image_data_3.parquet.zip\r\n",
            "-rw-r--r-- 1 nazarii nazarii 1,4M янв 24 15:24 train.csv.zip\r\n",
            "-rw-r--r-- 1 nazarii nazarii 992M янв 24 15:34 train_image_data_0.parquet.zip\r\n",
            "-rw-r--r-- 1 nazarii nazarii 986M янв 24 15:28 train_image_data_1.parquet.zip\r\n",
            "-rw-r--r-- 1 nazarii nazarii 993M янв 24 15:31 train_image_data_2.parquet.zip\r\n",
            "-rw-r--r-- 1 nazarii nazarii 994M янв 24 15:24 train_image_data_3.parquet.zip\r\n"
          ],
          "name": "stdout"
        }
      ]
    },
    {
      "cell_type": "code",
      "metadata": {
        "ExecuteTime": {
          "end_time": "2020-01-31T13:48:24.251658Z",
          "start_time": "2020-01-31T13:48:24.035372Z"
        },
        "id": "TDYRmGNh1cS0",
        "colab_type": "code",
        "colab": {}
      },
      "source": [
        "class_map = pd.read_csv(path('class_map.csv'))\n",
        "test = pd.read_csv(path('test.csv'))\n",
        "train = pd.read_csv(zfile('train.csv.zip').open('train.csv'))"
      ],
      "execution_count": 0,
      "outputs": []
    },
    {
      "cell_type": "code",
      "metadata": {
        "ExecuteTime": {
          "start_time": "2020-01-31T13:53:24.575Z"
        },
        "id": "nodsf2Ay1cS4",
        "colab_type": "code",
        "colab": {}
      },
      "source": [
        "train_image_data_1 = pd.read_parquet(zfile('train_image_data_1.parquet.zip').open('train_image_data_1.parquet'))"
      ],
      "execution_count": 0,
      "outputs": []
    },
    {
      "cell_type": "code",
      "metadata": {
        "id": "QsqzuDZc1cS8",
        "colab_type": "code",
        "colab": {}
      },
      "source": [
        ""
      ],
      "execution_count": 0,
      "outputs": []
    }
  ]
}