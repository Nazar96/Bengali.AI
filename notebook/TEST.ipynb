{
  "nbformat": 4,
  "nbformat_minor": 0,
  "metadata": {
    "kernelspec": {
      "display_name": "Python 3",
      "language": "python",
      "name": "python3"
    },
    "language_info": {
      "codemirror_mode": {
        "name": "ipython",
        "version": 3
      },
      "file_extension": ".py",
      "mimetype": "text/x-python",
      "name": "python",
      "nbconvert_exporter": "python",
      "pygments_lexer": "ipython3",
      "version": "3.7.3"
    },
    "toc": {
      "base_numbering": 1,
      "nav_menu": {},
      "number_sections": true,
      "sideBar": true,
      "skip_h1_title": false,
      "title_cell": "Table of Contents",
      "title_sidebar": "Contents",
      "toc_cell": false,
      "toc_position": {},
      "toc_section_display": true,
      "toc_window_display": false
    },
    "colab": {
      "name": "TEST.ipynb",
      "provenance": []
    }
  },
  "cells": [
    {
      "cell_type": "code",
      "metadata": {
        "ExecuteTime": {
          "end_time": "2020-01-31T14:41:41.739974Z",
          "start_time": "2020-01-31T14:41:41.728696Z"
        },
        "id": "cgsumDDN2Cmk",
        "colab_type": "code",
        "colab": {}
      },
      "source": [
        "def check_colab():\n",
        "    try:\n",
        "        from google.colab import drive\n",
        "        drive.mount('/content/gdrive')\n",
        "        IN_COLAB = True\n",
        "        \n",
        "    except:    \n",
        "        IN_COLAB = False\n",
        "        \n",
        "    return IN_COLAB"
      ],
      "execution_count": 0,
      "outputs": []
    },
    {
      "cell_type": "code",
      "metadata": {
        "ExecuteTime": {
          "end_time": "2020-01-31T14:37:36.354821Z",
          "start_time": "2020-01-31T14:37:35.690814Z"
        },
        "id": "Bjr6Y2GF2Cmr",
        "colab_type": "code",
        "colab": {
          "base_uri": "https://localhost:8080/",
          "height": 34
        },
        "outputId": "cd175433-da95-4849-bbd1-2312e5d54cfa"
      },
      "source": [
        "import numpy as np\n",
        "import pandas as pd\n",
        "from matplotlib import pyplot as plt\n",
        "import zipfile\n",
        "\n",
        "import sys\n",
        "import os\n",
        "\n",
        "\n",
        "IN_COLAB = check_colab()"
      ],
      "execution_count": 4,
      "outputs": [
        {
          "output_type": "stream",
          "text": [
            "Drive already mounted at /content/gdrive; to attempt to forcibly remount, call drive.mount(\"/content/gdrive\", force_remount=True).\n"
          ],
          "name": "stdout"
        }
      ]
    },
    {
      "cell_type": "code",
      "metadata": {
        "id": "sjy9IbH92Cmv",
        "colab_type": "code",
        "colab": {}
      },
      "source": [
        "if IN_COLAB == True:\n",
        "    DATA_PATH = \"gdrive/My Drive/BengaliAI_data/\"\n",
        "else:\n",
        "    DATA_PATH = '../data/orig/'"
      ],
      "execution_count": 0,
      "outputs": []
    },
    {
      "cell_type": "code",
      "metadata": {
        "ExecuteTime": {
          "end_time": "2020-01-31T13:53:13.301786Z",
          "start_time": "2020-01-31T13:53:13.297167Z"
        },
        "id": "ohEJZPmY2Cmz",
        "colab_type": "code",
        "colab": {}
      },
      "source": [
        "path = lambda file_name: os.path.join(DATA_PATH, file_name)\n",
        "zfile = lambda file_name: zipfile.ZipFile(path(file_name))"
      ],
      "execution_count": 0,
      "outputs": []
    },
    {
      "cell_type": "code",
      "metadata": {
        "id": "cSWEr7qU2gFf",
        "colab_type": "code",
        "colab": {
          "base_uri": "https://localhost:8080/",
          "height": 34
        },
        "outputId": "40b1c295-eeec-4a2b-cc32-807f8b283b5b"
      },
      "source": [
        "DATA_PATH"
      ],
      "execution_count": 7,
      "outputs": [
        {
          "output_type": "execute_result",
          "data": {
            "text/plain": [
              "'../data/orig/'"
            ]
          },
          "metadata": {
            "tags": []
          },
          "execution_count": 7
        }
      ]
    },
    {
      "cell_type": "code",
      "metadata": {
        "ExecuteTime": {
          "end_time": "2020-01-31T13:48:24.251658Z",
          "start_time": "2020-01-31T13:48:24.035372Z"
        },
        "id": "AfQhOawA2Cm8",
        "colab_type": "code",
        "colab": {}
      },
      "source": [
        "class_map = pd.read_csv(path('class_map.csv'))\n",
        "test = pd.read_csv(path('test.csv'))\n",
        "train = pd.read_csv(zfile('train.csv.zip').open('train.csv'))"
      ],
      "execution_count": 0,
      "outputs": []
    },
    {
      "cell_type": "code",
      "metadata": {
        "ExecuteTime": {
          "start_time": "2020-01-31T13:53:24.575Z"
        },
        "id": "BEj_gPB92CnA",
        "colab_type": "code",
        "colab": {}
      },
      "source": [
        "train_image_data_1 = pd.read_parquet(zfile('train_image_data_1.parquet.zip').open('train_image_data_1.parquet'))"
      ],
      "execution_count": 0,
      "outputs": []
    },
    {
      "cell_type": "code",
      "metadata": {
        "id": "0hNzWSX92CnE",
        "colab_type": "code",
        "colab": {}
      },
      "source": [
        ""
      ],
      "execution_count": 0,
      "outputs": []
    }
  ]
}